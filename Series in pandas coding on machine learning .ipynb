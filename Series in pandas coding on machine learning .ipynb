{
 "cells": [
  {
   "cell_type": "markdown",
   "id": "ceac6439",
   "metadata": {},
   "source": [
    "### pandas on series"
   ]
  },
  {
   "cell_type": "code",
   "execution_count": 2,
   "id": "9eb9c425",
   "metadata": {},
   "outputs": [],
   "source": [
    "import pandas as pd"
   ]
  },
  {
   "cell_type": "code",
   "execution_count": 3,
   "id": "20376136",
   "metadata": {},
   "outputs": [
    {
     "data": {
      "text/plain": [
       "0    11\n",
       "1    28\n",
       "2    72\n",
       "3     3\n",
       "4     5\n",
       "5     8\n",
       "dtype: int64"
      ]
     },
     "execution_count": 3,
     "metadata": {},
     "output_type": "execute_result"
    }
   ],
   "source": [
    "s = pd.Series([11,28,72,3,5,8])\n",
    "s"
   ]
  },
  {
   "cell_type": "code",
   "execution_count": 4,
   "id": "4ab9137f",
   "metadata": {},
   "outputs": [
    {
     "name": "stdout",
     "output_type": "stream",
     "text": [
      "RangeIndex(start=0, stop=6, step=1)\n",
      "[11 28 72  3  5  8]\n"
     ]
    }
   ],
   "source": [
    "print(s.index)\n",
    "print(s.values)"
   ]
  },
  {
   "cell_type": "code",
   "execution_count": 5,
   "id": "34ba57e8",
   "metadata": {},
   "outputs": [
    {
     "name": "stdout",
     "output_type": "stream",
     "text": [
      "[111  28  72   3   5   8]\n",
      "[11 28 72  3  5  8]\n",
      "<class 'numpy.ndarray'> <class 'numpy.ndarray'>\n"
     ]
    }
   ],
   "source": [
    "import numpy as np\n",
    "\n",
    "x = np.array([111,28,72,3,5,8])\n",
    "print(x)\n",
    "print(s.values)\n",
    "# both are the same type:\n",
    "print(type(s.values),type(x))"
   ]
  },
  {
   "cell_type": "code",
   "execution_count": 6,
   "id": "b92ffcfa",
   "metadata": {},
   "outputs": [
    {
     "name": "stdout",
     "output_type": "stream",
     "text": [
      "apple       37\n",
      "orange      46\n",
      "cherries    83\n",
      "pears       42\n",
      "dtype: int64\n",
      "sum of s: 115\n"
     ]
    }
   ],
   "source": [
    "fruits = ['apple','orange','cherries','pears']\n",
    "\n",
    "S = pd.Series([20,33,52,10], index = fruits)\n",
    "S1 = pd.Series([17,13,31,32], index = fruits)\n",
    "\n",
    "print(S + S1)\n",
    "\n",
    "print(\"sum of s:\", sum(S))"
   ]
  },
  {
   "cell_type": "code",
   "execution_count": null,
   "id": "f57d1064",
   "metadata": {},
   "outputs": [],
   "source": []
  }
 ],
 "metadata": {
  "kernelspec": {
   "display_name": "Python 3",
   "language": "python",
   "name": "python3"
  },
  "language_info": {
   "codemirror_mode": {
    "name": "ipython",
    "version": 3
   },
   "file_extension": ".py",
   "mimetype": "text/x-python",
   "name": "python",
   "nbconvert_exporter": "python",
   "pygments_lexer": "ipython3",
   "version": "3.8.8"
  }
 },
 "nbformat": 4,
 "nbformat_minor": 5
}
