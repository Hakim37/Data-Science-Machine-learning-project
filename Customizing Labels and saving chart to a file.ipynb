{
 "cells": [
  {
   "cell_type": "code",
   "execution_count": 2,
   "id": "5048ac5a",
   "metadata": {},
   "outputs": [],
   "source": [
    "import numpy as np\n",
    "import pandas as pd\n",
    "import matplotlib.pyplot as plt"
   ]
  },
  {
   "cell_type": "code",
   "execution_count": 3,
   "id": "d4f9d08d",
   "metadata": {},
   "outputs": [],
   "source": [
    "# Generate sample data \n",
    "x = np.linspace(0 , 20, 1000) #100 evenly-spaced values from 0 to 50\n",
    "y = np.sin(x)"
   ]
  },
  {
   "cell_type": "code",
   "execution_count": 4,
   "id": "d0f5423f",
   "metadata": {},
   "outputs": [],
   "source": [
    "# customize axis labels\n",
    "plt.plot(x, y, label = 'Sample Label')\n",
    "plt.title('Sample Plot Title')\n",
    "plt.xlabel('x,y,label')\n",
    "plt.ylabel('y axis label')\n",
    "plt.grid(True)\n",
    "\n",
    "# add footnote\n",
    "plt.figtext(0.995,0.01,'Footnote',ha ='right',va ='bottom')\n",
    "# add legend, location pick the best automatically\n",
    "plt.legend(loc = 'best',framealpha=0.5,prop={'size':'small'})\n",
    "\n",
    "# tight_layout() can take keywork argument of pad,w_pad and h_pad.\n",
    "# these control the extra padding around the figure b odered and between subplots\n",
    "# The pads are specified in fraction of fontsize.\n",
    "plt.tight_layout(pad = 1)\n",
    "\n",
    "# Sacing chart to a file\n",
    "plt.savefig('filename.png')\n",
    "plt.close() # Close the current window to allow new plot creation on separate window/axis,alterntively we can show()\n",
    "\n",
    "plt.show()"
   ]
  },
  {
   "cell_type": "code",
   "execution_count": null,
   "id": "cff9c826",
   "metadata": {},
   "outputs": [],
   "source": []
  }
 ],
 "metadata": {
  "kernelspec": {
   "display_name": "Python 3",
   "language": "python",
   "name": "python3"
  },
  "language_info": {
   "codemirror_mode": {
    "name": "ipython",
    "version": 3
   },
   "file_extension": ".py",
   "mimetype": "text/x-python",
   "name": "python",
   "nbconvert_exporter": "python",
   "pygments_lexer": "ipython3",
   "version": "3.8.8"
  }
 },
 "nbformat": 4,
 "nbformat_minor": 5
}
