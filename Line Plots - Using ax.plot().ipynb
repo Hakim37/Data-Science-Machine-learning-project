{
 "cells": [
  {
   "cell_type": "markdown",
   "id": "75e22e86",
   "metadata": {},
   "source": [
    "### Single plot construted with figure and Axes3333"
   ]
  },
  {
   "cell_type": "code",
   "execution_count": 1,
   "id": "8ee75a9e",
   "metadata": {},
   "outputs": [],
   "source": [
    "import numpy as np\n",
    "import matplotlib.pyplot as plt"
   ]
  },
  {
   "cell_type": "code",
   "execution_count": 2,
   "id": "12c5904b",
   "metadata": {},
   "outputs": [],
   "source": [
    "# Single line plot using \n",
    "\n",
    "# Generate sample data\n",
    "\n",
    "x = np.linspace(0, 20, 1000)\n",
    "y = np.sin(x)"
   ]
  },
  {
   "cell_type": "code",
   "execution_count": 3,
   "id": "aae06fe7",
   "metadata": {},
   "outputs": [
    {
     "data": {
      "text/plain": [
       "Text(0.5, 0, 'x axis lable')"
      ]
     },
     "execution_count": 3,
     "metadata": {},
     "output_type": "execute_result"
    },
    {
     "data": {
      "image/png": "[encoded data removed]",
      "text/plain": [
       "<Figure size 576x288 with 1 Axes>"
      ]
     },
     "metadata": {
      "needs_background": "light"
     },
     "output_type": "display_data"
    }
   ],
   "source": [
    "# get an empty figure and add an Axes\n",
    "fig = plt.figure(figsize=(8,4))\n",
    "ax = fig.add_subplot(1,1,1)\n",
    "\n",
    "# add title,labels and legend,etc.\n",
    "ax.set_ylabel('y axis label',fontsize = 16) #y label\n",
    "ax.set_xlabel('x axis lable',fontsize = 16) #x label"
   ]
  },
  {
   "cell_type": "code",
   "execution_count": 4,
   "id": "5c9e3e3d",
   "metadata": {},
   "outputs": [
    {
     "name": "stderr",
     "output_type": "stream",
     "text": [
      "No handles with labels found to put in legend.\n"
     ]
    }
   ],
   "source": [
    "ax.legend(loc = 'best')\n",
    "ax.grid(True)\n",
    "fig.suptitle('Sample Plot Title')\n",
    "fig.tight_layout(pad = 1)\n",
    "fig.savefig('filename.png',dpi = 125)"
   ]
  }
 ],
 "metadata": {
  "kernelspec": {
   "display_name": "Python 3",
   "language": "python",
   "name": "python3"
  },
  "language_info": {
   "codemirror_mode": {
    "name": "ipython",
    "version": 3
   },
   "file_extension": ".py",
   "mimetype": "text/x-python",
   "name": "python",
   "nbconvert_exporter": "python",
   "pygments_lexer": "ipython3",
   "version": "3.8.8"
  }
 },
 "nbformat": 4,
 "nbformat_minor": 5
}
