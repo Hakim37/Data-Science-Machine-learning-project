{
 "cells": [
  {
   "cell_type": "code",
   "execution_count": 1,
   "id": "31a817de",
   "metadata": {},
   "outputs": [],
   "source": [
    "from sklearn import datasets,ensemble\n",
    "from sklearn.metrics import mean_squared_error \n",
    "from sklearn.model_selection import train_test_split"
   ]
  },
  {
   "cell_type": "code",
   "execution_count": 2,
   "id": "8062cfe1",
   "metadata": {},
   "outputs": [],
   "source": [
    "diabetes = datasets.load_diabetes()\n",
    "X,y = diabetes.data,diabetes.target\n",
    "X_train,X_test,y_train,y_test = train_test_split(X,y,test_size = 0.1,random_state = 13)"
   ]
  },
  {
   "cell_type": "code",
   "execution_count": 3,
   "id": "a4c47f72",
   "metadata": {},
   "outputs": [],
   "source": [
    "params = {'n_estimators':500,\n",
    "         'max_depth':4,\n",
    "         'min_samples_split':5,\n",
    "         'learning_rate':0.01,\n",
    "         'loss':'ls'}"
   ]
  },
  {
   "cell_type": "code",
   "execution_count": 4,
   "id": "9b048d6c",
   "metadata": {},
   "outputs": [
    {
     "name": "stderr",
     "output_type": "stream",
     "text": [
      "C:\\Users\\Hakim Rajpoot\\anaconda3\\lib\\site-packages\\sklearn\\ensemble\\_gb.py:286: FutureWarning: The loss 'ls' was deprecated in v1.0 and will be removed in version 1.2. Use 'squared_error' which is equivalent.\n",
      "  warnings.warn(\n"
     ]
    },
    {
     "data": {
      "text/plain": [
       "GradientBoostingRegressor(learning_rate=0.01, loss='ls', max_depth=4,\n",
       "                          min_samples_split=5, n_estimators=500)"
      ]
     },
     "execution_count": 4,
     "metadata": {},
     "output_type": "execute_result"
    }
   ],
   "source": [
    "# Gradient boosting classifier\n",
    "reg = ensemble.GradientBoostingRegressor(**params)\n",
    "reg.fit(X_train,y_train)"
   ]
  },
  {
   "cell_type": "code",
   "execution_count": 5,
   "id": "a4d9bee9",
   "metadata": {},
   "outputs": [
    {
     "name": "stdout",
     "output_type": "stream",
     "text": [
      "This mean squared error (MSE) on test set for adaboost:3008.781482\n"
     ]
    }
   ],
   "source": [
    "mse1 = mean_squared_error(y_test,reg.predict(X_test))\n",
    "print(\"This mean squared error (MSE) on test set for adaboost:{:4f}\".format(mse1))"
   ]
  }
 ],
 "metadata": {
  "kernelspec": {
   "display_name": "Python 3",
   "language": "python",
   "name": "python3"
  },
  "language_info": {
   "codemirror_mode": {
    "name": "ipython",
    "version": 3
   },
   "file_extension": ".py",
   "mimetype": "text/x-python",
   "name": "python",
   "nbconvert_exporter": "python",
   "pygments_lexer": "ipython3",
   "version": "3.8.8"
  }
 },
 "nbformat": 4,
 "nbformat_minor": 5
}
