{
 "cells": [
  {
   "cell_type": "markdown",
   "id": "5e362196",
   "metadata": {},
   "source": [
    "## Grid searching how to working show it"
   ]
  },
  {
   "cell_type": "code",
   "execution_count": 17,
   "id": "fc52eab6",
   "metadata": {},
   "outputs": [],
   "source": [
    "from sklearn.datasets import load_iris\n",
    "from sklearn.svm import SVR\n",
    "iris = load_iris()\n",
    "svc =SVR()"
   ]
  },
  {
   "cell_type": "markdown",
   "id": "ffafd028",
   "metadata": {},
   "source": [
    "### python implementation of grid search using GridSearbhCV3"
   ]
  },
  {
   "cell_type": "code",
   "execution_count": 13,
   "id": "6d8de7c8",
   "metadata": {},
   "outputs": [],
   "source": [
    "from sklearn.model_selection import GridSearchCV\n",
    "from sklearn.svm import SVR\n",
    "grid = GridSearchCV(\n",
    "    estimator = SVR(kernel='rbf'),\n",
    "                    param_grid={\n",
    "                       'C':[0.1,1,100,1000],\n",
    "                       'epsilon':[0.0001,0.0005,0.001,0.005,0.01,0.05,0.1,0.5,1,5,10],\n",
    "                       'gamma' : [0.0001,0.001,0.005,0.1,1,3,5]\n",
    "                   },\n",
    "                   cv =5,scoring='neg_mean_squared_error',verbose=0, n_jobs=-1)"
   ]
  },
  {
   "cell_type": "code",
   "execution_count": 21,
   "id": "43aef2a7",
   "metadata": {},
   "outputs": [
    {
     "data": {
      "text/plain": [
       "GridSearchCV(cv=5, estimator=SVR(), n_jobs=-1,\n",
       "             param_grid={'C': [0.1, 1, 100, 1000],\n",
       "                         'epsilon': [0.0001, 0.0005, 0.001, 0.005, 0.01, 0.05,\n",
       "                                     0.1, 0.5, 1, 5, 10],\n",
       "                         'gamma': [0.0001, 0.001, 0.005, 0.1, 1, 3, 5]},\n",
       "             scoring='neg_mean_squared_error')"
      ]
     },
     "execution_count": 21,
     "metadata": {},
     "output_type": "execute_result"
    }
   ],
   "source": [
    "grid"
   ]
  },
  {
   "cell_type": "markdown",
   "id": "f07edeb2",
   "metadata": {},
   "source": [
    "## Fitting the Grid Search"
   ]
  },
  {
   "cell_type": "code",
   "execution_count": 20,
   "id": "e82bc612",
   "metadata": {},
   "outputs": [],
   "source": [
    "grid.fit(x,y)"
   ]
  }
 ],
 "metadata": {
  "kernelspec": {
   "display_name": "Python 3",
   "language": "python",
   "name": "python3"
  },
  "language_info": {
   "codemirror_mode": {
    "name": "ipython",
    "version": 3
   },
   "file_extension": ".py",
   "mimetype": "text/x-python",
   "name": "python",
   "nbconvert_exporter": "python",
   "pygments_lexer": "ipython3",
   "version": "3.8.8"
  }
 },
 "nbformat": 4,
 "nbformat_minor": 5
}
