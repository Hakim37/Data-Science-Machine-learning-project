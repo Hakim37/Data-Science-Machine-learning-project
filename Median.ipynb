{
 "cells": [
  {
   "cell_type": "code",
   "execution_count": 1,
   "id": "a0ba8d07",
   "metadata": {},
   "outputs": [],
   "source": [
    "speed = [77,78,85,86,86,87,87,88,94,99,103,111]"
   ]
  },
  {
   "cell_type": "code",
   "execution_count": 3,
   "id": "a85292d0",
   "metadata": {},
   "outputs": [
    {
     "name": "stdout",
     "output_type": "stream",
     "text": [
      "87.0\n"
     ]
    }
   ],
   "source": [
    "import numpy\n",
    "speed = [99,86,87,88,111,86,103,87,94,77,85,86]\n",
    "x = numpy.median(speed)\n",
    "print(x)"
   ]
  }
 ],
 "metadata": {
  "kernelspec": {
   "display_name": "Python 3",
   "language": "python",
   "name": "python3"
  },
  "language_info": {
   "codemirror_mode": {
    "name": "ipython",
    "version": 3
   },
   "file_extension": ".py",
   "mimetype": "text/x-python",
   "name": "python",
   "nbconvert_exporter": "python",
   "pygments_lexer": "ipython3",
   "version": "3.8.8"
  }
 },
 "nbformat": 4,
 "nbformat_minor": 5
}
