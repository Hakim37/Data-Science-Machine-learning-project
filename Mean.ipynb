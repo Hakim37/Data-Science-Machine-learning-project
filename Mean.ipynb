{
 "cells": [
  {
   "cell_type": "raw",
   "id": "24361078",
   "metadata": {},
   "source": [
    "Mean -the average value\n",
    "median - the mind point value\n",
    "Mode - the most common value"
   ]
  },
  {
   "cell_type": "code",
   "execution_count": 1,
   "id": "8594acbf",
   "metadata": {},
   "outputs": [],
   "source": [
    "speed = [99,86,87,88,111,86,103,87,94,78,77,85,86]"
   ]
  },
  {
   "cell_type": "markdown",
   "id": "ad6364c8",
   "metadata": {},
   "source": [
    "#### Mean"
   ]
  },
  {
   "cell_type": "code",
   "execution_count": 2,
   "id": "3014e042",
   "metadata": {},
   "outputs": [
    {
     "data": {
      "text/plain": [
       "83.0"
      ]
     },
     "execution_count": 2,
     "metadata": {},
     "output_type": "execute_result"
    }
   ],
   "source": [
    "(99+86+87+111+86+103+87+94+78+77+85+86)/13"
   ]
  },
  {
   "cell_type": "code",
   "execution_count": null,
   "id": "6d8f1fba",
   "metadata": {},
   "outputs": [],
   "source": [
    "import numpy\n",
    "\n"
   ]
  }
 ],
 "metadata": {
  "kernelspec": {
   "display_name": "Python 3",
   "language": "python",
   "name": "python3"
  },
  "language_info": {
   "codemirror_mode": {
    "name": "ipython",
    "version": 3
   },
   "file_extension": ".py",
   "mimetype": "text/x-python",
   "name": "python",
   "nbconvert_exporter": "python",
   "pygments_lexer": "ipython3",
   "version": "3.8.8"
  }
 },
 "nbformat": 4,
 "nbformat_minor": 5
}
