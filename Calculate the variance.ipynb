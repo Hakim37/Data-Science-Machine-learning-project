{
 "cells": [
  {
   "cell_type": "markdown",
   "id": "a48f17bc",
   "metadata": {},
   "source": [
    "### Calculate the varience"
   ]
  },
  {
   "cell_type": "code",
   "execution_count": 1,
   "id": "b9bba6d1",
   "metadata": {},
   "outputs": [
    {
     "name": "stdout",
     "output_type": "stream",
     "text": [
      "1432.2448979591834\n"
     ]
    }
   ],
   "source": [
    "import numpy\n",
    "\n",
    "speed = [32,111,138,28,59,77,97]\n",
    "\n",
    "x = numpy.var(speed)\n",
    "\n",
    "print(x)"
   ]
  },
  {
   "cell_type": "markdown",
   "id": "79ee2113",
   "metadata": {},
   "source": [
    "### Satandard Deviation3"
   ]
  },
  {
   "cell_type": "markdown",
   "id": "ee9ffed6",
   "metadata": {},
   "source": [
    "Need to root value"
   ]
  },
  {
   "cell_type": "code",
   "execution_count": 2,
   "id": "1a79b8bc",
   "metadata": {},
   "outputs": [
    {
     "name": "stdout",
     "output_type": "stream",
     "text": [
      "37.84501153334721\n"
     ]
    }
   ],
   "source": [
    "import numpy\n",
    "\n",
    "speed = [32,111,138,28,59,77,97]\n",
    "\n",
    "x = numpy.std(speed)\n",
    "\n",
    "print(x)"
   ]
  }
 ],
 "metadata": {
  "kernelspec": {
   "display_name": "Python 3",
   "language": "python",
   "name": "python3"
  },
  "language_info": {
   "codemirror_mode": {
    "name": "ipython",
    "version": 3
   },
   "file_extension": ".py",
   "mimetype": "text/x-python",
   "name": "python",
   "nbconvert_exporter": "python",
   "pygments_lexer": "ipython3",
   "version": "3.8.8"
  }
 },
 "nbformat": 4,
 "nbformat_minor": 5
}
